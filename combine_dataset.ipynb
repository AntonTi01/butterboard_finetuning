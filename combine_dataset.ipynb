{
 "cells": [
  {
   "cell_type": "code",
   "execution_count": 2,
   "metadata": {},
   "outputs": [
    {
     "name": "stdout",
     "output_type": "stream",
     "text": [
      "Найдено файлов: 9\n",
      "Обработка файла: dialoge_interview_syst_analyst_9_final_samples.jsonl\n",
      "Обработка файла: dialoge_interview_syst_analyst_8_final_samples.jsonl\n",
      "Обработка файла: dialoge_interview_syst_analyst_5_final_samples.jsonl\n",
      "Обработка файла: dialoge_interview_syst_analyst_4_final_samples.jsonl\n",
      "Обработка файла: dialoge_interview_syst_analyst_7_final_samples.jsonl\n",
      "Обработка файла: dialoge_interview_syst_analyst_6_final_samples.jsonl\n",
      "Обработка файла: dialoge_interview_syst_analyst_1_final_samples.jsonl\n",
      "Обработка файла: dialoge_interview_syst_analyst_2_final_samples.jsonl\n",
      "Обработка файла: dialoge_interview_syst_analyst_3_final_samples.jsonl\n",
      "Итоговый объединённый файл сохранён: /Users/forcemajor01/data_science/work_place/butterboard/butterboard_finetuning/merged_finetuning_samples.jsonl\n",
      "Обработка завершена: из 121 строк осталось 113 строк. Очищённый файл сохранён: /Users/forcemajor01/data_science/work_place/butterboard/butterboard_finetuning/merged_finetuning_samples_cleaned.jsonl\n"
     ]
    }
   ],
   "source": [
    "\n",
    "from pathlib import Path\n",
    "import json\n",
    "\n",
    "input_dir = Path(\"/Users/forcemajor01/data_science/work_place/butterboard/butterboard_finetuning/finetuning_samples\")\n",
    "output_dir = Path(\"/Users/forcemajor01/data_science/work_place/butterboard/butterboard_finetuning\")\n",
    "\n",
    "pattern = \"dialoge_interview_syst_analyst_*_final_samples.jsonl\"\n",
    "files = list(input_dir.glob(pattern))\n",
    "print(f\"Найдено файлов: {len(files)}\")\n",
    "\n",
    "output_file = output_dir / \"merged_finetuning_samples.jsonl\"\n",
    "\n",
    "with output_file.open(\"w\", encoding=\"utf-8\") as out_f:\n",
    "    for file in files:\n",
    "        print(f\"Обработка файла: {file.name}\")\n",
    "        with file.open(\"r\", encoding=\"utf-8\") as in_f:\n",
    "            for line in in_f:\n",
    "                line = line.strip()\n",
    "                if line:\n",
    "                    out_f.write(line + \"\\n\")\n",
    "\n",
    "print(f\"Итоговый объединённый файл сохранён: {output_file}\")\n",
    "\n",
    "# Путь для нового очищенного файла (без пустых output)\n",
    "cleaned_file = output_dir / \"merged_finetuning_samples_cleaned.jsonl\"\n",
    "\n",
    "# Читаем объединённый файл, фильтруем строки, если поле \"output\" пустое, пропускаем их\n",
    "with output_file.open(\"r\", encoding=\"utf-8\") as in_f, \\\n",
    "     cleaned_file.open(\"w\", encoding=\"utf-8\") as out_f:\n",
    "    valid_count = 0\n",
    "    total_count = 0\n",
    "    for line in in_f:\n",
    "        total_count += 1\n",
    "        line = line.strip()\n",
    "        if not line:\n",
    "            continue\n",
    "        try:\n",
    "            record = json.loads(line)\n",
    "        except Exception as e:\n",
    "            print(f\"Ошибка разбора строки: {e}\")\n",
    "            continue\n",
    "        \n",
    "        # Если поле \"output\" отсутствует или пустое (False), пропускаем строку\n",
    "        if record.get(\"output\"):\n",
    "            out_f.write(json.dumps(record, ensure_ascii=False) + \"\\n\")\n",
    "            valid_count += 1\n",
    "\n",
    "print(f\"Обработка завершена: из {total_count} строк осталось {valid_count} строк. Очищённый файл сохранён: {cleaned_file}\")\n",
    "\n"
   ]
  },
  {
   "cell_type": "code",
   "execution_count": null,
   "metadata": {},
   "outputs": [],
   "source": []
  }
 ],
 "metadata": {
  "kernelspec": {
   "display_name": "venv",
   "language": "python",
   "name": "python3"
  },
  "language_info": {
   "codemirror_mode": {
    "name": "ipython",
    "version": 3
   },
   "file_extension": ".py",
   "mimetype": "text/x-python",
   "name": "python",
   "nbconvert_exporter": "python",
   "pygments_lexer": "ipython3",
   "version": "3.12.4"
  }
 },
 "nbformat": 4,
 "nbformat_minor": 2
}
